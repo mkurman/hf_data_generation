{
 "cells": [
  {
   "cell_type": "code",
   "outputs": [],
   "source": [
    "import pandas as pd\n",
    "import requests\n",
    "import time\n",
    "\n",
    "from joblib import Parallel, delayed\n",
    "from typing import Optional\n",
    "from tqdm import tqdm\n",
    "from configparser import ConfigParser\n",
    "\n",
    "tqdm.pandas()"
   ],
   "metadata": {
    "collapsed": false
   },
   "id": "a9d33251f016d599",
   "execution_count": null
  },
  {
   "cell_type": "markdown",
   "source": [
    "### Load and prepare dataset"
   ],
   "metadata": {
    "collapsed": false
   },
   "id": "ae9179ca948600d8"
  },
  {
   "cell_type": "code",
   "outputs": [],
   "source": [
    "df = pd.read_csv('your dataset path') # or df = load_from_disk('your dataset path').to_pandas()"
   ],
   "metadata": {
    "collapsed": false
   },
   "id": "ac72902774740399",
   "execution_count": null
  },
  {
   "cell_type": "code",
   "outputs": [],
   "source": [
    "instructions = df['input'] # or df['output']"
   ],
   "metadata": {
    "collapsed": false
   },
   "id": "d0655dcda97f6a9f",
   "execution_count": null
  },
  {
   "cell_type": "markdown",
   "source": [
    "### Setup "
   ],
   "metadata": {
    "collapsed": false
   },
   "id": "e89d8270d01f7a91"
  },
  {
   "cell_type": "code",
   "outputs": [],
   "source": [
    "config = ConfigParser()\n",
    "config.read('../config.ini')"
   ],
   "metadata": {
    "collapsed": false
   },
   "id": "75be0665655fbb5",
   "execution_count": null
  },
  {
   "cell_type": "code",
   "outputs": [],
   "source": [
    "# Basic\n",
    "HF_TOKEN = config['base']['HF_TOKEN']\n",
    "N_JOBS = config['base']['N_JOBS']\n",
    "OUTPUT_FILE_NAME = config['base']['OUTPUT_FILE_NAME']\n",
    "SLEEP_TIME_S = config['base']['SLEEP_TIME_S']\n",
    "TIMEOUT = config['base']['TIMEOUT']\n",
    "NUM_RETRIES = config['base']['NUM_RETRIES']\n",
    "\n",
    "# Generation\n",
    "MODEL_API = config['generation']['MODEL_API_ENDPOINT']\n",
    "MAX_NEW_TOKENS = config['generation']['MAX_RESPONSE_TOKENS']\n",
    "INSTRUCTION = config['generation']['INSTRUCTION']\n",
    "INSTRUCTION = INSTRUCTION if len(INSTRUCTION.strip()) > 0 else None"
   ],
   "metadata": {
    "collapsed": false
   },
   "id": "b8f5bfada4930a30",
   "execution_count": null
  },
  {
   "cell_type": "code",
   "execution_count": null,
   "id": "initial_id",
   "metadata": {
    "collapsed": true
   },
   "outputs": [],
   "source": [
    "API_URL = MODEL_API\n",
    "headers = {\"Authorization\": f\"Bearer {HF_TOKEN}\"}\n",
    "\n",
    "def query(payload):\n",
    "\tresponse = requests.post(API_URL, headers=headers, json=payload)\n",
    "\treturn response.json()\n",
    "\n",
    "def request(text: str, instruction: Optional[str] = None):\n",
    "\tfinished = False\n",
    "\tretry = 0\n",
    "\t\n",
    "\tsystem = f'<|system|>{instruction}<|end|>' if instruction is not None else ''\n",
    "\twhile not finished:\n",
    "\t\ttry:\n",
    "\t\t\toutput = query({\n",
    "\t\t\t\t\"inputs\": f\"{system}<|user|>\\n{text}<|end|>\\n<|assistant|>\",\n",
    "\t\t\t\t\"parameters\": {\n",
    "\t\t\t\t\t\"temperature\": 0.6,\n",
    "\t\t\t\t\t\"max_new_tokens\": MAX_NEW_TOKENS\n",
    "\t\t\t\t  }\n",
    "\t\t\t})\n",
    "\t\t\t\n",
    "\t\t\tresponse = output[0]['generated_text'].replace(instruction, '').replace(text, '').replace('<|end|>', '').replace('<|assistant|>', '').replace('<|user|>', '').strip()\n",
    "\t\t\t\n",
    "\t\t\treturn {'instruction': instruction, 'output': response, 'input': text.strip()}\n",
    "\t\texcept:\n",
    "\t\t\tretry += 1\n",
    "\t\t\ttime.sleep(int(SLEEP_TIME_S))\n",
    "\t\t\t\n",
    "\t\t\tif retry == NUM_RETRIES:\n",
    "\t\t\t\treturn {'instruction': instruction, 'output': '', 'input': text.strip()}"
   ]
  },
  {
   "cell_type": "markdown",
   "source": [
    "### Start generating process"
   ],
   "metadata": {
    "collapsed": false
   },
   "id": "c7b1f844b4984e24"
  },
  {
   "cell_type": "code",
   "outputs": [],
   "source": [
    "results = Parallel(n_jobs=N_JOBS, batch_size=1, timeout=int(TIMEOUT))(delayed(request)(instructions[i], INSTRUCTION) for i in tqdm(range(len(instructions))))"
   ],
   "metadata": {
    "collapsed": false
   },
   "id": "3565ffce10576127",
   "execution_count": null
  },
  {
   "cell_type": "code",
   "outputs": [],
   "source": [
    "len(results)"
   ],
   "metadata": {
    "collapsed": false
   },
   "id": "63c0f01c1d80ff97",
   "execution_count": null
  },
  {
   "cell_type": "markdown",
   "source": [
    "### Remove failed responses"
   ],
   "metadata": {
    "collapsed": false
   },
   "id": "815e3995efe427ae"
  },
  {
   "cell_type": "code",
   "outputs": [],
   "source": [
    "result_cleaned = [x for x in results if len(x['output']) > 0]\n",
    "len(result_cleaned)"
   ],
   "metadata": {
    "collapsed": false
   },
   "id": "aaaffaf7fe5e672d",
   "execution_count": null
  },
  {
   "cell_type": "markdown",
   "source": [
    "### Save to file"
   ],
   "metadata": {
    "collapsed": false
   },
   "id": "92bb5df1b9bf4c40"
  },
  {
   "cell_type": "code",
   "outputs": [],
   "source": [
    "pd.DataFrame(result_cleaned).to_json(f'{OUTPUT_FILE_NAME}.jsonl', orient='records', lines=True)"
   ],
   "metadata": {
    "collapsed": false
   },
   "id": "cdb45bd40811afa9",
   "execution_count": null
  }
 ],
 "metadata": {
  "kernelspec": {
   "display_name": "Python 3",
   "language": "python",
   "name": "python3"
  },
  "language_info": {
   "codemirror_mode": {
    "name": "ipython",
    "version": 2
   },
   "file_extension": ".py",
   "mimetype": "text/x-python",
   "name": "python",
   "nbconvert_exporter": "python",
   "pygments_lexer": "ipython2",
   "version": "2.7.6"
  }
 },
 "nbformat": 4,
 "nbformat_minor": 5
}
